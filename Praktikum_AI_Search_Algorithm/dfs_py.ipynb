{
  "nbformat": 4,
  "nbformat_minor": 0,
  "metadata": {
    "colab": {
      "provenance": [],
      "authorship_tag": "ABX9TyMfTPeDkUPdK0g9IuHaVuq5",
      "include_colab_link": true
    },
    "kernelspec": {
      "name": "python3",
      "display_name": "Python 3"
    },
    "language_info": {
      "name": "python"
    }
  },
  "cells": [
    {
      "cell_type": "markdown",
      "metadata": {
        "id": "view-in-github",
        "colab_type": "text"
      },
      "source": [
        "<a href=\"https://colab.research.google.com/github/SintiaJuniarti6/Sintia-Juniarti_2306008_Praktikum_AI_2/blob/main/Praktikum_AI_Search_Algorithm/dfs_py.ipynb\" target=\"_parent\"><img src=\"https://colab.research.google.com/assets/colab-badge.svg\" alt=\"Open In Colab\"/></a>"
      ]
    },
    {
      "cell_type": "code",
      "execution_count": 1,
      "metadata": {
        "colab": {
          "base_uri": "https://localhost:8080/"
        },
        "id": "6yiJpFfPz3kc",
        "outputId": "8eb26729-a2d4-48b4-ed64-84a8adb44458"
      },
      "outputs": [
        {
          "output_type": "stream",
          "name": "stdout",
          "text": [
            "Berikut adalah penelusuran Depth First Search (dimulai dari node 2):\n",
            "2 0 1 3 "
          ]
        }
      ],
      "source": [
        "class Graph:\n",
        "    def __init__(self):\n",
        "        # Menggunakan dictionary untuk menyimpan adjacency list\n",
        "        self.graph = {}\n",
        "\n",
        "    def addEdge(self, u, v):\n",
        "        # Menambahkan edge ke graph (graf berarah)\n",
        "        if u not in self.graph:\n",
        "            self.graph[u] = []\n",
        "        self.graph[u].append(v)\n",
        "\n",
        "    def DFSUtil(self, v, visited):\n",
        "        # Menandai node sebagai telah dikunjungi dan mencetaknya\n",
        "        visited.add(v)\n",
        "        print(v, end=' ')\n",
        "\n",
        "        # Melakukan rekursi untuk semua tetangga yang belum dikunjungi\n",
        "        if v in self.graph:\n",
        "            for neighbour in self.graph[v]:\n",
        "                if neighbour not in visited:\n",
        "                    self.DFSUtil(neighbour, visited)\n",
        "\n",
        "    def DFS(self, start_node):\n",
        "        # Menyimpan node yang sudah dikunjungi\n",
        "        visited = set()\n",
        "        # Memulai DFS dari start_node\n",
        "        self.DFSUtil(start_node, visited)\n",
        "\n",
        "# Driver code\n",
        "if __name__ == \"__main__\":\n",
        "    g = Graph()\n",
        "    g.addEdge(0, 1)\n",
        "    g.addEdge(0, 2)\n",
        "    g.addEdge(1, 2)\n",
        "    g.addEdge(2, 0)\n",
        "    g.addEdge(2, 3)\n",
        "    g.addEdge(3, 3)\n",
        "\n",
        "    print(\"Berikut adalah penelusuran Depth First Search (dimulai dari node 2):\")\n",
        "    g.DFS(2)\n",
        ""
      ]
    },
    {
      "cell_type": "markdown",
      "source": [
        "# New Section"
      ],
      "metadata": {
        "id": "FZIFU_AdLqT2"
      }
    }
  ]
}